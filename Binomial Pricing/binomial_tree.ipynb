{
 "cells": [
  {
   "cell_type": "markdown",
   "metadata": {},
   "source": [
    "# Binaomial Trees (Without Barriers)"
   ]
  },
  {
   "cell_type": "markdown",
   "metadata": {},
   "source": []
  },
  {
   "cell_type": "code",
   "execution_count": 54,
   "metadata": {},
   "outputs": [],
   "source": [
    "# Author : Ashwin Kr.\n",
    "import numpy as np\n",
    "# Reformatted Python code in IPython notebook format with a few variable names changed for clarity.\n",
    "\n",
    "# PARAMETER INITIALIZATION\n",
    "initial_stock_price = 100  # initial stock price\n",
    "strike_price = 100         # strike price or exercise price\n",
    "time_to_maturity = 1       # maturity in years\n",
    "risk_free_rate = 0.04      # annual risk-free rate\n",
    "num_steps = 3              # number of time steps in binomial model\n",
    "up_factor = 1.1            # up-factor in binomial models\n",
    "\n",
    "# We can take any value of up_factor here but for simplicity, we use 1/up_factor for recombining tree\n",
    "down_factor = 1 / up_factor  # ensure recombining tree (to return to the same price)\n",
    "stock_down = initial_stock_price * down_factor  # stock price with up-factor\n",
    "stock_up = initial_stock_price * up_factor  # stock price with down-factor\n",
    "option_type = 'C'  # Option Type 'C' means call option, 'P' for put option"
   ]
  },
  {
   "cell_type": "code",
   "execution_count": 59,
   "metadata": {},
   "outputs": [
    {
     "name": "stdout",
     "output_type": "stream",
     "text": [
      "q1 (using stock prices): 0.5464994307846508\n",
      "q2 (using up/down factors): 0.5464994307846508\n",
      "Function binomial_slow took 0.0003 seconds\n"
     ]
    },
    {
     "data": {
      "text/plain": [
       "9.09466556261714"
      ]
     },
     "execution_count": 59,
     "metadata": {},
     "output_type": "execute_result"
    }
   ],
   "source": [
    "\n",
    "# Define the faster binomial tree pricing function\n",
    "@timing\n",
    "# Define the binomial pricing model\n",
    "def binomial_slow(strike_price, time_to_maturity, initial_stock_price, risk_free_rate, num_steps, up_factor, down_factor, option_type='C'):\n",
    "    dt = time_to_maturity / num_steps  # Smallest time step\n",
    "\n",
    "\n",
    "    # Calculating risk-neutral probability using stock prices\n",
    "    q1 = (initial_stock_price * np.exp(risk_free_rate * dt) - stock_down) / (stock_up - stock_down)\n",
    "    q2 = (np.exp(risk_free_rate * dt) - down_factor) / (up_factor - down_factor)\n",
    "    \n",
    "    print(\"q1 (using stock prices):\", q1)\n",
    "    print(\"q2 (using up/down factors):\", q2)\n",
    "    \n",
    "    # - `q1` is derived using stock prices at the next time step, while\n",
    "    # - `q2` is the standard risk-neutral probability formula using up/down factors and the risk-free rate.\n",
    "\n",
    "    disc = np.exp(-risk_free_rate * dt)  # Discount factor\n",
    "\n",
    "    # Initialize asset prices at maturity (at time step N)\n",
    "    stock_prices = np.zeros(num_steps + 1)\n",
    "    stock_prices[0] = initial_stock_price * down_factor**num_steps  # bottom of the tree\n",
    "    for j in range(1, num_steps + 1):\n",
    "        stock_prices[j] = stock_prices[j-1] * up_factor / down_factor  # apply up factor\n",
    "    \n",
    "    # Initialize option values at maturity\n",
    "    option_values = np.zeros(num_steps + 1)\n",
    "    for j in range(0, num_steps + 1):\n",
    "        if option_type == 'C':  # Call option payoff\n",
    "            option_values[j] = max(0, stock_prices[j] - strike_price) #you are allowed to buy\n",
    "        else:  # Put option payoff\n",
    "            option_values[j] = max(0, strike_price - stock_prices[j]) #you are allowed to sell\n",
    "\n",
    "    # Backward iteration through tree\n",
    "    for i in np.arange(num_steps, 0, -1):\n",
    "        for j in range(0, i):\n",
    "            option_values[j] = disc * (q2 * option_values[j+1] + (1 - q2) * option_values[j])\n",
    "\n",
    "    return option_values[0]\n",
    "\n",
    "# Running the binomial slow function\n",
    "binomial_slow(strike_price, time_to_maturity, initial_stock_price, risk_free_rate, num_steps, up_factor, down_factor, option_type='C')\n"
   ]
  },
  {
   "cell_type": "markdown",
   "metadata": {},
   "source": []
  },
  {
   "cell_type": "code",
   "execution_count": 60,
   "metadata": {},
   "outputs": [
    {
     "name": "stdout",
     "output_type": "stream",
     "text": [
      "Function binomial_fast took 0.0001 seconds\n"
     ]
    },
    {
     "data": {
      "text/plain": [
       "9.094665562617147"
      ]
     },
     "execution_count": 60,
     "metadata": {},
     "output_type": "execute_result"
    }
   ],
   "source": [
    "# Reformatted Python code with variable name changes and explanation\n",
    "# Define the faster binomial tree pricing function\n",
    "@timing\n",
    "def binomial_fast(strike_price, time_to_maturity, initial_stock_price, risk_free_rate, num_steps, up_factor, down_factor, option_type='C'):\n",
    "    # Precompute constants\n",
    "    dt = time_to_maturity / num_steps  # Smallest time step\n",
    "    q = (np.exp(risk_free_rate * dt) - down_factor) / (up_factor - down_factor)  # Risk-neutral probability\n",
    "    disc = np.exp(-risk_free_rate * dt)  # Discount factor\n",
    "\n",
    "    # Initialise asset prices at maturity - Time step N\n",
    "    asset_prices = initial_stock_price * down_factor ** np.arange(num_steps, -1, -1) * up_factor ** np.arange(0, num_steps + 1, 1)\n",
    "\n",
    "    # Initialise option values at maturity\n",
    "    option_values = np.maximum(asset_prices - strike_price, np.zeros(num_steps + 1))\n",
    "\n",
    "    # Step backwards through the tree\n",
    "    for i in np.arange(num_steps, 0, -1):\n",
    "        option_values = disc * (q * option_values[1:i + 1] + (1 - q) * option_values[0:i])\n",
    "\n",
    "    return option_values[0]\n",
    "\n",
    "# Running the binomial_tree_fast function\n",
    "binomial_fast(strike_price, time_to_maturity, initial_stock_price, risk_free_rate, num_steps, up_factor, down_factor, option_type='C')\n"
   ]
  },
  {
   "cell_type": "code",
   "execution_count": 62,
   "metadata": {},
   "outputs": [
    {
     "name": "stdout",
     "output_type": "stream",
     "text": [
      "Running for N = 2...\n",
      "q1 (using stock prices): 0.5464994307846508\n",
      "q2 (using up/down factors): 0.5464994307846508\n",
      "Function binomial_slow took 0.0002 seconds\n",
      "Function binomial_fast took 0.0004 seconds\n",
      "Running for N = 50...\n",
      "q1 (using stock prices): 0.5464994307846508\n",
      "q2 (using up/down factors): 0.5464994307846508\n",
      "Function binomial_slow took 0.0002 seconds\n",
      "Function binomial_fast took 0.0001 seconds\n"
     ]
    }
   ],
   "source": [
    "# # Timing decorator function\n",
    "def timing(f):\n",
    "    def wrap(*args, **kw):\n",
    "        start_time = time.time()\n",
    "        result = f(*args, **kw)\n",
    "        end_time = time.time()\n",
    "        print(f'Function {f.__name__} took {(end_time - start_time):.4f} seconds')\n",
    "        return result\n",
    "    return wrap\n",
    "\n",
    "for N in [2,50]:\n",
    "    print(f\"Running for N = {N}...\")\n",
    "    \n",
    "    binomial_slow(strike_price, time_to_maturity, initial_stock_price, risk_free_rate, num_steps, up_factor, down_factor, option_type='C')\n",
    "    binomial_fast(strike_price, time_to_maturity, initial_stock_price, risk_free_rate, num_steps, up_factor, down_factor, option_type='C')\n",
    "    "
   ]
  }
 ],
 "metadata": {
  "kernelspec": {
   "display_name": "Python 3",
   "language": "python",
   "name": "python3"
  },
  "language_info": {
   "codemirror_mode": {
    "name": "ipython",
    "version": 3
   },
   "file_extension": ".py",
   "mimetype": "text/x-python",
   "name": "python",
   "nbconvert_exporter": "python",
   "pygments_lexer": "ipython3",
   "version": "3.10.12"
  }
 },
 "nbformat": 4,
 "nbformat_minor": 2
}
