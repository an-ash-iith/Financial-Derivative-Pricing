{
 "cells": [
  {
   "cell_type": "code",
   "execution_count": 1,
   "metadata": {},
   "outputs": [
    {
     "name": "stderr",
     "output_type": "stream",
     "text": [
      "/home/ash/.local/lib/python3.10/site-packages/matplotlib/projections/__init__.py:63: UserWarning: Unable to import Axes3D. This may be due to multiple versions of Matplotlib being installed (e.g. as a system package and as a pip package). As a result, the 3D projection is not available.\n",
      "  warnings.warn(\"Unable to import Axes3D. This may be due to multiple versions of \"\n"
     ]
    }
   ],
   "source": [
    "import pandas as pd\n",
    "import numpy as np\n",
    "import matplotlib.pyplot as plt\n",
    "import datetime as dt\n",
    "# from pandas_datareader import data as pdr"
   ]
  },
  {
   "cell_type": "code",
   "execution_count": 2,
   "metadata": {},
   "outputs": [],
   "source": [
    "from pandas_datareader import data as pdr"
   ]
  },
  {
   "cell_type": "code",
   "execution_count": 3,
   "metadata": {},
   "outputs": [
    {
     "name": "stdout",
     "output_type": "stream",
     "text": [
      "Error fetching stock data: 'NoneType' object has no attribute 'group'\n",
      "Failed to retrieve stock data. Exiting.\n"
     ]
    }
   ],
   "source": [
    "import numpy as np\n",
    "import pandas as pd\n",
    "import matplotlib.pyplot as plt\n",
    "import datetime\n",
    "import pandas_datareader as pdr\n",
    "\n",
    "# Function to fetch stock data and compute returns and covariance\n",
    "def fetch_stock_data(stocks, start, end):\n",
    "    try:\n",
    "        data = pdr.get_data_yahoo(stocks, start, end)\n",
    "        close_prices = data['Close']\n",
    "        if close_prices.empty:\n",
    "            raise ValueError(\"No data returned for the given stock symbols or date range.\")\n",
    "        daily_returns = close_prices.pct_change()\n",
    "        avg_returns = daily_returns.mean()\n",
    "        covariance_matrix = daily_returns.cov()\n",
    "        return avg_returns, covariance_matrix\n",
    "    except Exception as e:\n",
    "        print(f\"Error fetching stock data: {e}\")\n",
    "        return None, None\n",
    "\n",
    "# List of stock tickers and date range\n",
    "stock_symbols = ['CBA', 'BHP', 'TLS', 'NAB', 'WBC', 'STO']\n",
    "tickers = [symbol + '.AX' for symbol in stock_symbols]\n",
    "end_date = datetime.datetime.now()\n",
    "start_date = end_date - datetime.timedelta(days=300)\n",
    "\n",
    "# Get the mean returns and covariance matrix\n",
    "mean_returns, cov_matrix = fetch_stock_data(tickers, start_date, end_date)\n",
    "\n",
    "# Check if data retrieval was successful\n",
    "if mean_returns is None or cov_matrix is None:\n",
    "    print(\"Failed to retrieve stock data. Exiting.\")\n",
    "else:\n",
    "    # Assign random portfolio weights\n",
    "    portfolio_weights = np.random.random(len(mean_returns))\n",
    "    portfolio_weights /= np.sum(portfolio_weights)  # Normalize to sum to 1\n",
    "\n",
    "    # Monte Carlo parameters\n",
    "    num_simulations = 400  # Number of simulations\n",
    "    time_horizon = 100  # Number of days\n",
    "\n",
    "    # Create a matrix to hold the mean returns repeated for each time step\n",
    "    mean_matrix = np.full(shape=(time_horizon, len(portfolio_weights)), fill_value=mean_returns).T\n",
    "\n",
    "    # Matrix to store simulated portfolio values\n",
    "    portfolio_simulations = np.zeros((time_horizon, num_simulations))\n",
    "\n",
    "    initial_investment = 10000  # Initial portfolio value\n",
    "\n",
    "    # Perform Monte Carlo simulations\n",
    "    for sim in range(num_simulations):\n",
    "        random_values = np.random.normal(size=(time_horizon, len(portfolio_weights)))  # Uncorrelated random variables\n",
    "        chol_matrix = np.linalg.cholesky(cov_matrix)  # Cholesky decomposition\n",
    "        daily_returns_sim = mean_matrix + np.dot(chol_matrix, random_values.T)  # Correlated daily returns\n",
    "        portfolio_simulations[:, sim] = np.cumprod(np.dot(portfolio_weights, daily_returns_sim) + 1) * initial_investment\n",
    "\n",
    "    # Plot the simulation results\n",
    "    plt.plot(portfolio_simulations)\n",
    "    plt.ylabel('Portfolio Value ($)')\n",
    "    plt.xlabel('Days')\n",
    "    plt.title('Monte Carlo Simulation of Stock Portfolio')\n",
    "    plt.show()\n",
    "\n",
    "    # Value at Risk (VaR) calculation using Monte Carlo simulation results\n",
    "    def calculate_mc_var(returns, alpha=5):\n",
    "        \"\"\"Calculates the VaR at a given confidence level (alpha)\"\"\"\n",
    "        if isinstance(returns, pd.Series):\n",
    "            return np.percentile(returns, alpha)\n",
    "        else:\n",
    "            raise TypeError(\"Expected a pandas Series.\")\n",
    "\n",
    "    # Conditional Value at Risk (CVaR) or Expected Shortfall\n",
    "    def calculate_mc_cvar(returns, alpha=5):\n",
    "        \"\"\"Calculates the CVaR at a given confidence level (alpha)\"\"\"\n",
    "        if isinstance(returns, pd.Series):\n",
    "            var = calculate_mc_var(returns, alpha)\n",
    "            return returns[returns <= var].mean()\n",
    "        else:\n",
    "            raise TypeError(\"Expected a pandas Series.\")\n",
    "\n",
    "    # Analyze portfolio simulation results\n",
    "    portfolio_final_values = pd.Series(portfolio_simulations[-1, :])\n",
    "\n",
    "    # Calculate VaR and CVaR\n",
    "    var_5_percent = initial_investment - calculate_mc_var(portfolio_final_values, alpha=5)\n",
    "    cvar_5_percent = initial_investment - calculate_mc_cvar(portfolio_final_values, alpha=5)\n",
    "\n",
    "    # Display results\n",
    "    print(f'VaR at 5% confidence: ${var_5_percent:.2f}')\n",
    "    print(f'CVaR at 5% confidence: ${cvar_5_percent:.2f}')\n"
   ]
  },
  {
   "cell_type": "markdown",
   "metadata": {},
   "source": [
    "## Derivatives Parameter\n"
   ]
  },
  {
   "cell_type": "markdown",
   "metadata": {},
   "source": []
  },
  {
   "cell_type": "code",
   "execution_count": 4,
   "metadata": {},
   "outputs": [
    {
     "name": "stdout",
     "output_type": "stream",
     "text": [
      "Time to Maturity (in years): 0.16164383561643836\n"
     ]
    }
   ],
   "source": [
    "import datetime\n",
    "\n",
    "# Set initial parameters for the derivative\n",
    "stock_price = 101.15   # Current price of the underlying stock (S)\n",
    "strike_price = 98.01   # Option strike price (K)\n",
    "volatility = 0.0991    # Volatility as a percentage (vol)\n",
    "risk_free_rate = 0.01  # Risk-free interest rate (r)\n",
    "num_time_steps = 10    # Number of time steps in the simulation (N)\n",
    "num_simulations = 1000 # Number of Monte Carlo simulations (M)\n",
    "\n",
    "option_market_price = 3.86 # Market price of the option\n",
    "\n",
    "# Calculate time to maturity in years (T)\n",
    "start_date = datetime.date(2022, 1, 17)\n",
    "end_date = datetime.date(2022, 3, 17)\n",
    "time_to_maturity = (end_date - start_date).days / 365\n",
    "\n",
    "# Display the time to maturity\n",
    "print(f\"Time to Maturity (in years): {time_to_maturity}\")\n"
   ]
  },
  {
   "cell_type": "markdown",
   "metadata": {},
   "source": [
    "## Vectorized Solution "
   ]
  },
  {
   "cell_type": "code",
   "execution_count": 5,
   "metadata": {},
   "outputs": [
    {
     "name": "stdout",
     "output_type": "stream",
     "text": [
      "Estimated Call Option Price: $3.79\n",
      "Standard Error: +/- $0.11\n"
     ]
    }
   ],
   "source": [
    "# Precompute constants used in the simulation\n",
    "time_step = time_to_maturity / num_time_steps  # Size of each time step (dt)\n",
    "drift = (risk_free_rate - 0.5 * volatility ** 2) * time_step  # Drift component (nudt)\n",
    "volatility_sqrt_dt = volatility * np.sqrt(time_step)  # Volatility component scaled by time step (volsdt)\n",
    "log_stock_price = np.log(stock_price)  # Logarithm of the initial stock price (lnS)\n",
    "\n",
    "# Placeholders for summation used in Monte Carlo\n",
    "sum_call_payoff = 0  # Sum of option payoffs (CT)\n",
    "sum_call_payoff_squared = 0  # Sum of squared option payoffs (CT^2)\n",
    "\n",
    "# Monte Carlo simulation to estimate option price\n",
    "for sim in range(num_simulations):\n",
    "    log_stock_price_t = log_stock_price\n",
    "    # Simulate the stock price path over time steps\n",
    "    for step in range(num_time_steps):\n",
    "        log_stock_price_t += drift + volatility_sqrt_dt * np.random.normal()  # Random walk\n",
    "\n",
    "    final_stock_price = np.exp(log_stock_price_t)  # Convert back to stock price (ST)\n",
    "    call_payoff = max(0, final_stock_price - strike_price)  # Option payoff (CT)\n",
    "\n",
    "    sum_call_payoff += call_payoff\n",
    "    sum_call_payoff_squared += call_payoff ** 2\n",
    "\n",
    "# Calculate the expected option price (C0) and standard error (SE)\n",
    "option_price = np.exp(-risk_free_rate * time_to_maturity) * sum_call_payoff / num_simulations  # Discounted expectation\n",
    "std_dev = np.sqrt((sum_call_payoff_squared - (sum_call_payoff ** 2) / num_simulations) * np.exp(-2 * risk_free_rate * time_to_maturity) / (num_simulations - 1))\n",
    "standard_error = std_dev / np.sqrt(num_simulations)\n",
    "\n",
    "# Print the results\n",
    "print(f\"Estimated Call Option Price: ${option_price:.2f}\")\n",
    "print(f\"Standard Error: +/- ${standard_error:.2f}\")\n"
   ]
  },
  {
   "cell_type": "markdown",
   "metadata": {},
   "source": []
  }
 ],
 "metadata": {
  "kernelspec": {
   "display_name": "Python 3",
   "language": "python",
   "name": "python3"
  },
  "language_info": {
   "codemirror_mode": {
    "name": "ipython",
    "version": 3
   },
   "file_extension": ".py",
   "mimetype": "text/x-python",
   "name": "python",
   "nbconvert_exporter": "python",
   "pygments_lexer": "ipython3",
   "version": "3.10.12"
  }
 },
 "nbformat": 4,
 "nbformat_minor": 2
}
